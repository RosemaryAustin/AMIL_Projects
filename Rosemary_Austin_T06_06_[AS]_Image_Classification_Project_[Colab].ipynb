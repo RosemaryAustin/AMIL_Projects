{
  "nbformat": 4,
  "nbformat_minor": 0,
  "metadata": {
    "colab": {
      "name": "Rosemary Austin - T06-06 [AS] Image Classification Project [Colab].ipynb",
      "provenance": [],
      "private_outputs": true,
      "collapsed_sections": [
        "yFwKrxE38t9S"
      ],
      "toc_visible": true,
      "include_colab_link": true
    },
    "kernelspec": {
      "display_name": "Python 3",
      "name": "python3"
    }
  },
  "cells": [
    {
      "cell_type": "markdown",
      "metadata": {
        "id": "view-in-github",
        "colab_type": "text"
      },
      "source": [
        "<a href=\"https://colab.research.google.com/github/RosemaryAustin/AMIL_Projects/blob/master/Rosemary_Austin_T06_06_%5BAS%5D_Image_Classification_Project_%5BColab%5D.ipynb\" target=\"_parent\"><img src=\"https://colab.research.google.com/assets/colab-badge.svg\" alt=\"Open In Colab\"/></a>"
      ]
    },
    {
      "cell_type": "markdown",
      "metadata": {
        "colab_type": "text",
        "id": "yFwKrxE38t9S"
      },
      "source": [
        "#### Copyright 2019 Google LLC."
      ]
    },
    {
      "cell_type": "code",
      "metadata": {
        "colab_type": "code",
        "id": "kpcrMDk48nqI",
        "colab": {}
      },
      "source": [
        "# Licensed under the Apache License, Version 2.0 (the \"License\");\n",
        "# you may not use this file except in compliance with the License.\n",
        "# You may obtain a copy of the License at\n",
        "#\n",
        "# https://www.apache.org/licenses/LICENSE-2.0\n",
        "#\n",
        "# Unless required by applicable law or agreed to in writing, software\n",
        "# distributed under the License is distributed on an \"AS IS\" BASIS,\n",
        "# WITHOUT WARRANTIES OR CONDITIONS OF ANY KIND, either express or implied.\n",
        "# See the License for the specific language governing permissions and\n",
        "# limitations under the License."
      ],
      "execution_count": 0,
      "outputs": []
    },
    {
      "cell_type": "markdown",
      "metadata": {
        "colab_type": "text",
        "id": "bTZOeKjw8waH"
      },
      "source": [
        "# Image Classification Project"
      ]
    },
    {
      "cell_type": "markdown",
      "metadata": {
        "colab_type": "text",
        "id": "pK5j0BXxrbfX"
      },
      "source": [
        "In this project, we will built an image classification model and use the model to identify if the image contain a particular object.  The outcome of the model will be true of false for each images."
      ]
    },
    {
      "cell_type": "markdown",
      "metadata": {
        "colab_type": "text",
        "id": "7fz_1lEAXeW2"
      },
      "source": [
        "## Overview"
      ]
    },
    {
      "cell_type": "markdown",
      "metadata": {
        "colab_type": "text",
        "id": "lbXXnlHyXiKa"
      },
      "source": [
        "### Learning Objectives\n",
        "\n",
        "* Use a classification toolkits (scikit-learn, TensorFlow, or Keras) and build an image classification model.\n",
        "* Prepare image data to the appropriate format and quality to be a suitable input to the model."
      ]
    },
    {
      "cell_type": "markdown",
      "metadata": {
        "colab_type": "text",
        "id": "M62dLnxpX6Le"
      },
      "source": [
        "### Prerequisites\n",
        "\n",
        "* Classification with scikit-learn\n",
        "* Classification with TensorFlow\n",
        "* Neural Networks\n",
        "* Image Classificaion with Keras\n",
        "* Image Manipulation with Python"
      ]
    },
    {
      "cell_type": "markdown",
      "metadata": {
        "colab_type": "text",
        "id": "IrPi5LSZYIrw"
      },
      "source": [
        "### Estimated Duration\n",
        "\n",
        "330 minutes (285 minutes working time, 45 minutes for presentations)"
      ]
    },
    {
      "cell_type": "markdown",
      "metadata": {
        "colab_type": "text",
        "id": "r6RA-x2G2Fd4"
      },
      "source": [
        "### Deliverables\n",
        "\n",
        "1. A copy of this Colab notebook containing your code and responses to the ethical considerations below. The code should produce a functional labeled video.\n",
        "1. A group presentation. After everyone is done, we will ask each group to stand in front of the class and give a brief presentation about what they have done in this lab. The presentation can be a code walkthrough, a group discussion, a slide show, or any other means that conveys what you did over the course of the day and what you learned. If you do create any artifacts for your presentation, please share them in the class folder."
      ]
    },
    {
      "cell_type": "markdown",
      "metadata": {
        "colab_type": "text",
        "id": "pzCWjL4DYLgf"
      },
      "source": [
        "### Grading Criteria\n",
        "\n",
        "This project is graded in separate sections that each contribute a percentage of the total score:\n",
        "\n",
        "1. Building and Using a Model (80%)\n",
        "1. Ethical Implications (10%)\n",
        "1. Project Presentation (10%)\n",
        "\n",
        "#### Building and Using a Model\n",
        "\n",
        "There are 6 demonstrations of competency listed in the problem statement below. Each competency is graded on a 3 point scale for a total of 18 available points. The following rubric will be used:\n",
        "\n",
        "| Points | Description |\n",
        "|--------|-------------|\n",
        "| 0      | No attempt at the competency |\n",
        "| 1      | Attempted competency, but in an incorrect manner |\n",
        "| 2      | Attempted competency correctly, but sub-optimally |\n",
        "| 3      | Successful demonstration of competency |\n",
        "\n",
        "\n",
        "#### Ethical Implications\n",
        "\n",
        "There are six questions in the **Ethical Implications** secion. Each question is worth 2 points. The rubric for calculating those points is:\n",
        "\n",
        "| Points | Description |\n",
        "|--------|-------------|\n",
        "| 0      | No attempt at question or answer was off-topic or didn't make sense |\n",
        "| 1      | Question was answered, but answer missed important considerations  |\n",
        "| 2      | Answer adequately considered ethical implications |\n",
        "\n",
        "#### Project Presentation\n",
        "\n",
        "The project presentation will be graded on participation. All members of a team should actively participate."
      ]
    },
    {
      "cell_type": "markdown",
      "metadata": {
        "colab_type": "text",
        "id": "_yACB56w2JVk"
      },
      "source": [
        "## Team\n",
        "\n",
        "Please enter your team members names in the placeholders in this text area:\n",
        "\n",
        "*   Rosemary\n",
        "*   Gabi\n",
        "*   Kelsey\n",
        "\n"
      ]
    },
    {
      "cell_type": "markdown",
      "metadata": {
        "colab_type": "text",
        "id": "YTVUYxPwcHhp"
      },
      "source": [
        "# Exercises"
      ]
    },
    {
      "cell_type": "markdown",
      "metadata": {
        "colab_type": "text",
        "id": "LdIOgOHP1ces"
      },
      "source": [
        "## Exercise 1: Coding"
      ]
    },
    {
      "cell_type": "markdown",
      "metadata": {
        "colab_type": "text",
        "id": "jhTEOK1ZmqN8"
      },
      "source": [
        "There are very few more important questions in life than \"[Hot dog or not hot dog?](https://www.youtube.com/watch?v=ACmydtFDTGs)\". For this workshop you will be tasked with creating a machine learning model that can **take an input image and determine if the image is of a hot dog or not a hot dog**.\n",
        "\n",
        "Train your model with the [Kaggle Hot Dog/Not Hot Dog](https://www.kaggle.com/dansbecker/hot-dog-not-hot-dog/data) data set. Feel free to [do some background research](https://medium.com/@timanglade/how-hbos-silicon-valley-built-not-hotdog-with-mobile-tensorflow-keras-react-native-ef03260747f3) on the topic.\n",
        "\n",
        "We have looked at regression, classification, and clustering models. We have used the Scikit Learn, TensorFlow, and Keras toolkits. Feel free to use the model and toolkit that you feel is the most appropriate.\n",
        " \n",
        "**Graded** demonstrations of competency:\n",
        "1. Pick a classification toolkit (eg: scikit-learn, TensorFlow or Keras) and provide jusitifaction for your choice. \n",
        "1. Obtain, prepare and load the dataset.\n",
        "1. Define and train a classification model.\n",
        "1. Test and evaluation your classification model. \n",
        "1. Apply your classification model to an image sourced from outside the Kaggle dataset. \n",
        "1. Test multiple models and/or sets of hyper-parameters and record the results. \n",
        "  \n",
        "Some tips:\n",
        " \n",
        "* Think about how to pre-process the images prior to use them as training data.  Should you train with images in color or grayscale, how many pixels should the image contains, etc. Clearly explain the reasoning for your choices in \n",
        " "
      ]
    },
    {
      "cell_type": "markdown",
      "metadata": {
        "colab_type": "text",
        "id": "7XM35vYWSbim"
      },
      "source": [
        "### Student Solution"
      ]
    },
    {
      "cell_type": "code",
      "metadata": {
        "colab_type": "code",
        "id": "ivTzfzQN5jDk",
        "colab": {}
      },
      "source": [
        "# Your code goes here\n",
        "\n",
        "\n",
        "import zipfile\n",
        "zip_ref = zipfile.ZipFile('hot-dog-not-hot-dog.zip', 'r')\n",
        "zip_ref.extractall('./')\n",
        "zip_ref.close()"
      ],
      "execution_count": 0,
      "outputs": []
    },
    {
      "cell_type": "code",
      "metadata": {
        "id": "4gjKhZ89CCoB",
        "colab_type": "code",
        "colab": {}
      },
      "source": [
        "from PIL import ImageOps, Image\n",
        "import numpy as np\n",
        "\n",
        "def make_square(frame):\n",
        "  '''\n",
        " Takes a cv2 frame and resizes it to the correct image size, then\n",
        " makes it grayscale. Function from project 3\n",
        " '''\n",
        "  SIZE = 50\n",
        "  h,w,_ = frame.shape\n",
        "  maxdim = max(w,h)\n",
        "  width_padding = maxdim - w\n",
        "  height_padding = maxdim - h\n",
        "  top_pad = height_padding // 2\n",
        "  bottom_pad = height_padding - top_pad\n",
        "  left_pad = width_padding // 2\n",
        "  right_pad = width_padding - left_pad\n",
        "  padding = ( left_pad, top_pad, right_pad, bottom_pad)\n",
        "  #convert to PIL image type\n",
        "  im = Image.fromarray(frame)\n",
        "  #add the padding\n",
        "  im = ImageOps.expand(im, padding, (255,255,255,1))\n",
        "  #resize to 28 by 28\n",
        "  im = im.resize((SIZE,SIZE), Image.ANTIALIAS)\n",
        "  #turn black and white\n",
        "  #im = ImageOps.grayscale(im)\n",
        "  #return it to an arraytype\n",
        "  newframe = np.asarray(im)\n",
        "  #scale it from [0,255] to [0,1]\n",
        "  newframe = newframe / 255\n",
        "  #invert the grayscale!\n",
        "  newframe = 1 - newframe\n",
        "  return newframe\n"
      ],
      "execution_count": 0,
      "outputs": []
    },
    {
      "cell_type": "code",
      "metadata": {
        "id": "o84OnsVm8UR6",
        "colab_type": "code",
        "colab": {}
      },
      "source": [
        "import pandas as pd\n",
        "import tensorflow as tf\n",
        "from PIL import Image\n",
        "import matplotlib.pyplot as plt\n",
        "import os\n",
        "import cv2 as cv\n",
        "\n",
        "\n",
        "notdogs = []\n",
        "directory = 'train/not_hot_dog/'\n",
        "for filename in os.listdir(directory):\n",
        "  if filename.endswith('.jpg'):\n",
        "    path = directory+filename\n",
        "    not_hotdog = cv.imread(path)\n",
        "    nhd = make_square(not_hotdog)\n",
        "    notdogs.append(nhd.flatten())\n",
        "yesdogs = []\n",
        "directory = 'train/hot_dog/'\n",
        "for filename in os.listdir(directory):\n",
        "  if filename.endswith('.jpg'):\n",
        "    path = directory+filename\n",
        "    hotdog = cv.imread(path)\n",
        "    hd = make_square(hotdog)\n",
        "    yesdogs.append(hd.flatten())\n",
        "print(len(notdogs), len(yesdogs))\n",
        "\n",
        "\n",
        "\n",
        "\n",
        "\n",
        "\n"
      ],
      "execution_count": 0,
      "outputs": []
    },
    {
      "cell_type": "code",
      "metadata": {
        "id": "UoSZRiJOCOdn",
        "colab_type": "code",
        "colab": {}
      },
      "source": [
        "notdogsdf = pd.DataFrame(notdogs)\n",
        "isdogsdf = pd.DataFrame(yesdogs)\n",
        "\n",
        "isnotdogscol = np.zeros(len(notdogs))\n",
        "isdogcol = np.ones(len(yesdogs))\n",
        "\n",
        "\n",
        "notdogsdf['is_dog?'] = isnotdogscol\n",
        "isdogsdf['is_dog?'] = isdogcol\n",
        "\n",
        "df = pd.concat([notdogsdf,isdogsdf], ignore_index=True)\n",
        "\n",
        "traindf = df.sample(frac=1).reset_index(drop=True)\n",
        "\n",
        "display(traindf.head())\n",
        "display(traindf.tail())\n",
        "df.shape"
      ],
      "execution_count": 0,
      "outputs": []
    },
    {
      "cell_type": "code",
      "metadata": {
        "id": "PVcHeofaPi_z",
        "colab_type": "code",
        "colab": {}
      },
      "source": [
        "notdog = []\n",
        "directory = 'test/not_hot_dog/'\n",
        "for filename in os.listdir(directory):\n",
        "  if filename.endswith('.jpg'):\n",
        "    paths = directory+filename\n",
        "    not_hotdogs = cv.imread(paths)\n",
        "    nhds = make_square(not_hotdogs)\n",
        "    notdog.append(nhds.flatten())\n",
        "yesdog = []\n",
        "directory = 'test/hot_dog/'\n",
        "for filename in os.listdir(directory):\n",
        "  if filename.endswith('.jpg'):\n",
        "    paths = directory+filename\n",
        "    hotdogs = cv.imread(paths)\n",
        "    hds = make_square(hotdogs)\n",
        "    yesdog.append(hds.flatten())\n",
        "print(len(notdog), len(yesdog))\n"
      ],
      "execution_count": 0,
      "outputs": []
    },
    {
      "cell_type": "code",
      "metadata": {
        "id": "Px4icRX4P9SE",
        "colab_type": "code",
        "colab": {}
      },
      "source": [
        "notdogdf = pd.DataFrame(notdogs)\n",
        "isdogdf = pd.DataFrame(yesdogs)\n",
        "\n",
        "isnotdogcol = np.zeros(len(notdogs))\n",
        "isdogscol = np.ones(len(yesdogs))\n",
        "\n",
        "\n",
        "notdogdf['is_dog?'] = isnotdogcol\n",
        "isdogdf['is_dog?'] = isdogscol\n",
        "\n",
        "dfs = pd.concat([notdogdf,isdogdf], ignore_index=True)\n",
        "\n",
        "testdf = dfs.sample(frac=1).reset_index(drop=True)\n",
        "\n",
        "display(testdf.head())\n",
        "display(testdf.tail())\n",
        "df.shape"
      ],
      "execution_count": 0,
      "outputs": []
    },
    {
      "cell_type": "code",
      "metadata": {
        "id": "CKe5hMcMH3Lu",
        "colab_type": "code",
        "colab": {}
      },
      "source": [
        "model = tf.keras.Sequential([\n",
        "    \n",
        "    #Layer 1\n",
        "    tf.keras.layers.Dense(128, activation=tf.nn.selu),\n",
        "    \n",
        "    \n",
        "    # Layer 2\n",
        "    tf.keras.layers.Dense(128, activation=tf.nn.relu),\n",
        "    \n",
        "     # Layer 4\n",
        "    #tf.keras.layers.Dense(2, activation=tf.nn.tanh),\n",
        "    \n",
        "    # Layer 3\n",
        "    tf.keras.layers.Dense(2, activation=tf.nn.softmax)\n",
        "    \n",
        "   \n",
        "])\n"
      ],
      "execution_count": 0,
      "outputs": []
    },
    {
      "cell_type": "code",
      "metadata": {
        "id": "P2pQC9pmH-d-",
        "colab_type": "code",
        "colab": {}
      },
      "source": [
        "model.compile(\n",
        "    \n",
        "    # Specify loss function\n",
        "    loss='sparse_categorical_crossentropy',\n",
        "    \n",
        "    # Specify optimizer\n",
        "    optimizer=tf.train.AdadeltaOptimizer(),\n",
        "   \n",
        "    # Specify metrics\n",
        "    metrics=['accuracy']\n",
        ")\n"
      ],
      "execution_count": 0,
      "outputs": []
    },
    {
      "cell_type": "code",
      "metadata": {
        "id": "lcjHf6fGMMRR",
        "colab_type": "code",
        "colab": {}
      },
      "source": [
        "np.array(traindf['is_dog?'])"
      ],
      "execution_count": 0,
      "outputs": []
    },
    {
      "cell_type": "code",
      "metadata": {
        "id": "KIsIegpuIDx5",
        "colab_type": "code",
        "colab": {}
      },
      "source": [
        "history = model.fit(x=np.array(traindf[np.arange(0,783)]), y=np.array(traindf['is_dog?'], dtype=int), epochs=5)"
      ],
      "execution_count": 0,
      "outputs": []
    },
    {
      "cell_type": "code",
      "metadata": {
        "id": "CswXCFZxOZkx",
        "colab_type": "code",
        "colab": {}
      },
      "source": [
        "predictions = model.predict(x=np.array(testdf[np.arange(0,783)]))\n",
        "\n",
        "\n",
        "#predictions.shape\n",
        "\n",
        "(test_loss, test_acc) = model.evaluate(x=np.array(testdf[np.arange(0,783)]), y=np.array(testdf['is_dog?'], dtype=int))\n",
        "\n",
        "#0.7731\n",
        "\n",
        "#0.7610\n"
      ],
      "execution_count": 0,
      "outputs": []
    },
    {
      "cell_type": "code",
      "metadata": {
        "id": "TDM8gvwh7BAm",
        "colab_type": "code",
        "colab": {}
      },
      "source": [
        "import zipfile\n",
        "zip_ref = zipfile.ZipFile('man-Vs-man.zip', 'r')\n",
        "zip_ref.extractall('./')\n",
        "zip_ref.close()\n",
        "\n",
        "\n"
      ],
      "execution_count": 0,
      "outputs": []
    },
    {
      "cell_type": "code",
      "metadata": {
        "id": "8KzKP_cZA1OU",
        "colab_type": "code",
        "colab": {}
      },
      "source": [
        "from PIL import ImageOps, Image\n",
        "import numpy as np\n",
        "\n",
        "def make_square(frame):\n",
        " '''Takes a cv2 frame and resizes it to the correct image size, then\n",
        " makes it grayscale. Function from project 3\n",
        " '''\n",
        " SIZE = 28\n",
        "\n",
        " h,w,_ = frame.shape\n",
        " maxdim = max(w,h)\n",
        " width_padding = maxdim - w\n",
        " height_padding = maxdim - h\n",
        "\n",
        " top_pad = height_padding // 2\n",
        " bottom_pad = height_padding - top_pad\n",
        " left_pad = width_padding // 2\n",
        " right_pad = width_padding - left_pad\n",
        "\n",
        " padding = ( left_pad, top_pad, right_pad, bottom_pad)\n",
        "\n",
        " #convert to PIL image type\n",
        " im = Image.fromarray(frame)\n",
        "\n",
        " #add the padding\n",
        " im = ImageOps.expand(im, padding, (255,255,255,1))\n",
        "\n",
        " #resize to 28 by 28\n",
        " im = im.resize((SIZE,SIZE), Image.ANTIALIAS)\n",
        "\n",
        " #turn black and white\n",
        " im = ImageOps.grayscale(im)\n",
        "\n",
        " #return it to an arraytype\n",
        " newframe = np.asarray(im)\n",
        "\n",
        " #scale it from [0,255] to [0,1]\n",
        " newframe = newframe / 255\n",
        "\n",
        " #invert the grayscale!\n",
        " newframe = 1 - newframe\n",
        "\n",
        " return newframe"
      ],
      "execution_count": 0,
      "outputs": []
    },
    {
      "cell_type": "code",
      "metadata": {
        "id": "lllwOxxb8rmI",
        "colab_type": "code",
        "colab": {}
      },
      "source": [
        "import pandas as pd\n",
        "import tensorflow as tf\n",
        "from PIL import Image\n",
        "import matplotlib.pyplot as plt\n",
        "import os\n",
        "import cv2 as cv\n",
        "\n",
        "\n",
        "mani = []\n",
        "directory = 'man-Vs-man/Mani/'\n",
        "for filename in os.listdir(directory):\n",
        "#   if filename.endswith('.jpg'):\n",
        "    path = directory+filename\n",
        "    mani_thing = cv.imread(path)\n",
        "    nhm = make_square(mani_thing)\n",
        "    mani.append(nhm.flatten())\n",
        "    print(filename)\n",
        "# person = []\n",
        "# directory = 'man-Vs-man/person/'\n",
        "# for filename in os.listdir(directory):\n",
        "# #   if filename.endswith('.jpg'):\n",
        "#     path = directory+filename\n",
        "#     person_thing= cv.imread(path)\n",
        "#     hm = make_square(person_thing)\n",
        "#     person.append(hm.flatten())\n",
        "#     print(filename)\n",
        "# print(len(mani), len(person))\n"
      ],
      "execution_count": 0,
      "outputs": []
    },
    {
      "cell_type": "code",
      "metadata": {
        "id": "e1ijSz0O-7Jp",
        "colab_type": "code",
        "colab": {}
      },
      "source": [
        "print(len(mani))\n",
        "print(len(person))"
      ],
      "execution_count": 0,
      "outputs": []
    },
    {
      "cell_type": "code",
      "metadata": {
        "id": "SYcy5bLi8dBf",
        "colab_type": "code",
        "colab": {}
      },
      "source": [
        "history = model.fit(x=np.array(traindf[np.arange(0,783)]), y=np.array(traindf['is_dog?'], dtype=int), epochs=5)"
      ],
      "execution_count": 0,
      "outputs": []
    },
    {
      "cell_type": "code",
      "metadata": {
        "id": "WEgnuBdf8d3H",
        "colab_type": "code",
        "colab": {}
      },
      "source": [
        "predictions = model.predict(x=np.array(testdf[np.arange(0,783)]))\n",
        "\n",
        "\n",
        "#predictions.shape\n",
        "\n",
        "(test_loss, test_acc) = model.evaluate(x=np.array(testdf[np.arange(0,783)]), y=np.array(testdf['is_dog?'], dtype=int))"
      ],
      "execution_count": 0,
      "outputs": []
    },
    {
      "cell_type": "markdown",
      "metadata": {
        "colab_type": "text",
        "id": "HniKdSXg0YHR"
      },
      "source": [
        "## Exercise 2: Ethical Implications"
      ]
    },
    {
      "cell_type": "markdown",
      "metadata": {
        "colab_type": "text",
        "id": "W4FvC1Aa0ZT5"
      },
      "source": [
        "Even the most basic of models have the potential to affect segments of the population in different ways. It is important to consider how your model might positively and negative effect different types of users.\n",
        "\n",
        "In this section of the project you will reflect on the positive and negative implications of your model.\n"
      ]
    },
    {
      "cell_type": "markdown",
      "metadata": {
        "colab_type": "text",
        "id": "lkyzwVQr0brd"
      },
      "source": [
        "### Student Solution"
      ]
    },
    {
      "cell_type": "markdown",
      "metadata": {
        "colab_type": "text",
        "id": "gy4I2vG60ebd"
      },
      "source": [
        "**Positive Impact**\n",
        "\n",
        "Your model is trying to solve a problem. Think about who will benefit from that problem being solved and write a brief narrative about how the model will help.\n",
        "\n",
        "---"
      ]
    },
    {
      "cell_type": "markdown",
      "metadata": {
        "colab_type": "text",
        "id": "k59MK1Ah0fWy"
      },
      "source": [
        "*Hypothetical entities will benefit because...*"
      ]
    },
    {
      "cell_type": "markdown",
      "metadata": {
        "colab_type": "text",
        "id": "gzqkrLnk0hMU"
      },
      "source": [
        "**Negative Impact**\n",
        "\n",
        "Models don't often have universal benefit. Think about who might be negatively impacted by the predictions your model is making. This person or persons might not be directly using the model, but instead might be impacted indirectly.\n",
        "\n",
        "---"
      ]
    },
    {
      "cell_type": "markdown",
      "metadata": {
        "colab_type": "text",
        "id": "Hefa1JdP0kj3"
      },
      "source": [
        "*Hypothetical entity will be negatively impacted because...*"
      ]
    },
    {
      "cell_type": "markdown",
      "metadata": {
        "colab_type": "text",
        "id": "Uax2HAzd0mHX"
      },
      "source": [
        "**Bias**\n",
        "\n",
        "Models can be biased for many reasons. The bias can come from the data used to build the model (eg. sampling, data collection methods, available sources) and from the interpretation of the predictions generated by the model.\n",
        "\n",
        "Think of at least two ways that bias might have been introduced to your model and explain both below.\n",
        "\n",
        "---"
      ]
    },
    {
      "cell_type": "markdown",
      "metadata": {
        "colab_type": "text",
        "id": "6bJGm-qs0oQV"
      },
      "source": [
        "*One source of bias in the model could be...*\n",
        "\n",
        "*Another source of bias in the model could be...*"
      ]
    },
    {
      "cell_type": "markdown",
      "metadata": {
        "colab_type": "text",
        "id": "Ybb1zAkC0p2e"
      },
      "source": [
        "**Changing the Dataset to Mitigate Bias**\n",
        "\n",
        "Biased datasets are one of the primary ways in which bias is introduced to a machine learning model. Look back at the input data that you fed to your model. Think about how you might change something about the data to reduce bias in your model.\n",
        "\n",
        "What change or changes could you make to your dataset to reduce bias? Consider the data that you have, how and where that data was collected, and what other sources of data might be used to reduce bias.\n",
        "\n",
        "Write a summary of change that could be made to your input data.\n",
        "\n",
        "---"
      ]
    },
    {
      "cell_type": "markdown",
      "metadata": {
        "colab_type": "text",
        "id": "UFsnF4_h08DD"
      },
      "source": [
        "*Since the data has potential bias A we can adjust...*"
      ]
    },
    {
      "cell_type": "markdown",
      "metadata": {
        "colab_type": "text",
        "id": "ChEJbhXA02pW"
      },
      "source": [
        "**Changing the Model to Mitigate Bias**\n",
        "\n",
        "Is there any way to reduce bias by changing the model itself? This could include modifying algorithmic choices, tweaking hyperparameters, etc.\n",
        "\n",
        "Write a brief summary of changes that you could make to help reduce bias in your model.\n",
        "\n",
        "---"
      ]
    },
    {
      "cell_type": "markdown",
      "metadata": {
        "colab_type": "text",
        "id": "kEAhgO_U0p8Y"
      },
      "source": [
        "*Since the model has potential bias A we can adjust...*"
      ]
    },
    {
      "cell_type": "markdown",
      "metadata": {
        "colab_type": "text",
        "id": "rShB5BQv0wix"
      },
      "source": [
        "**Mitigating Bias Downstream**\n",
        "\n",
        "Models make predictions. Downstream processes make decisions. What processes and/or rules should be in place for people and systems interpreting and acting on the results of your model to reduce the bias? Describe these below.\n",
        "\n",
        "---"
      ]
    },
    {
      "cell_type": "markdown",
      "metadata": {
        "colab_type": "text",
        "id": "C__BwBP-00HN"
      },
      "source": [
        "*Since the predictions have potential bias A we can adjust...*"
      ]
    }
  ]
}