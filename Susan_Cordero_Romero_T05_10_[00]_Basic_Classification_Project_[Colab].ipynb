{
  "nbformat": 4,
  "nbformat_minor": 0,
  "metadata": {
    "colab": {
      "name": "Susan Cordero Romero - T05-10 [00] Basic Classification Project [Colab].ipynb",
      "provenance": [],
      "private_outputs": true,
      "collapsed_sections": [
        "copyright"
      ],
      "toc_visible": true,
      "include_colab_link": true
    },
    "kernelspec": {
      "display_name": "Python 3",
      "name": "python3"
    }
  },
  "cells": [
    {
      "cell_type": "markdown",
      "metadata": {
        "id": "view-in-github",
        "colab_type": "text"
      },
      "source": [
        "<a href=\"https://colab.research.google.com/github/RosemaryAustin/AMIL_Projects/blob/master/Susan_Cordero_Romero_T05_10_%5B00%5D_Basic_Classification_Project_%5BColab%5D.ipynb\" target=\"_parent\"><img src=\"https://colab.research.google.com/assets/colab-badge.svg\" alt=\"Open In Colab\"/></a>"
      ]
    },
    {
      "cell_type": "markdown",
      "metadata": {
        "colab_type": "text",
        "id": "copyright"
      },
      "source": [
        "#### Copyright 2019 Google LLC."
      ]
    },
    {
      "cell_type": "code",
      "metadata": {
        "colab_type": "code",
        "id": "-Xt6PXeVjxQN",
        "colab": {}
      },
      "source": [
        "# Licensed under the Apache License, Version 2.0 (the \"License\");\n",
        "# you may not use this file except in compliance with the License.\n",
        "# You may obtain a copy of the License at\n",
        "#\n",
        "# https://www.apache.org/licenses/LICENSE-2.0\n",
        "#\n",
        "# Unless required by applicable law or agreed to in writing, software\n",
        "# distributed under the License is distributed on an \"AS IS\" BASIS,\n",
        "# WITHOUT WARRANTIES OR CONDITIONS OF ANY KIND, either express or implied.\n",
        "# See the License for the specific language governing permissions and\n",
        "# limitations under the License."
      ],
      "execution_count": 0,
      "outputs": []
    },
    {
      "cell_type": "markdown",
      "metadata": {
        "colab_type": "text",
        "id": "c2hPzRb6j_CA"
      },
      "source": [
        "# Basic Classification Project"
      ]
    },
    {
      "cell_type": "markdown",
      "metadata": {
        "colab_type": "text",
        "id": "fsdfasdfsadfsd"
      },
      "source": [
        "In this project you will perform a basic classification task.\n",
        "You will apply what you learned about binary classification and tensorflow to implement a Kaggle project without much guidance. The challenge is to achieve a high accuracy score when trying to predict which passengers survived the Titanic crash. After building your model, you will upload your predictions to Kaggle and submit the score that you receive."
      ]
    },
    {
      "cell_type": "markdown",
      "metadata": {
        "colab_type": "text",
        "id": "overview"
      },
      "source": [
        "## Overview"
      ]
    },
    {
      "cell_type": "markdown",
      "metadata": {
        "colab_type": "text",
        "id": "learning-objectives"
      },
      "source": [
        "### Learning Objectives\n",
        "\n",
        "* Define, build, train and evaluate a Linear Classifier model in TensorFlow.\n",
        "* Submit predictions to a Kaggle challenge.\n"
      ]
    },
    {
      "cell_type": "markdown",
      "metadata": {
        "colab_type": "text",
        "id": "VZe4Xj9tyQRD"
      },
      "source": [
        "### Prerequisites\n",
        "\n",
        "* T05-09 Classification with TensorFlow"
      ]
    },
    {
      "cell_type": "markdown",
      "metadata": {
        "colab_type": "text",
        "id": "duration"
      },
      "source": [
        "### Estimated Duration\n",
        "\n",
        "330 minutes (270 minutes working time, 60 minutes for presentations)"
      ]
    },
    {
      "cell_type": "markdown",
      "metadata": {
        "colab_type": "text",
        "id": "WwdVfHZBADHQ"
      },
      "source": [
        "### Deliverables\n",
        "\n",
        "1. A copy of this Colab notebook containing your code and a written response with your conclusions and the score that you receive from Kaggle.\n",
        "1. A group presentation. After everyone is done, we will ask each group to stand in front of the class and give a brief presentation about what they have done in this lab. The presentation can be a code walkthrough, a group discussion, a slide show, or any other means that conveys what you did over the course of the day and what you learned. If you do create any artifacts for your presentation, please share them in the class folder."
      ]
    },
    {
      "cell_type": "markdown",
      "metadata": {
        "colab_type": "text",
        "id": "OSlHSTIWAiIE"
      },
      "source": [
        "### Grading Criteria\n",
        "\n",
        "This project is worth 50 points in your final grade, and it will be graded in separate sections that each contribute a percentage of the total score:\n",
        "\n",
        "1. Building and Using a Model (Exercise 1) (60%)\n",
        "2. Kaggle score and conclusion (Exercise 2) (20%)\n",
        "3. Improving your model (Exercise 3) (10%)\n",
        "4. Project Presentation (10%)\n",
        "\n",
        "#### 1. Building and Using a Model (Exercise 1) \n",
        "\n",
        "There are 10 demonstrations of competency listed in the first exercise. Each competency is graded on a 3 point scale for a total of 30 available points. The following rubric will be used:\n",
        "\n",
        "| Points | Description |\n",
        "|--------|-------------|\n",
        "| 0      | No attempt at the competency |\n",
        "| 1      | Attempted competency, but in an incorrect manner |\n",
        "| 2      | Attempted competency correctly, but sub-optimally |\n",
        "| 3      | Successful demonstration of competency |\n",
        "\n",
        "\n",
        "#### 2. Kaggle score and conclusion (Exercise 2)\n",
        "\n",
        "There are 3 demonstrations of competency and 1 question in the second exercise. Each competency is worth 2 points, and your written response is worth 4 points. The rubric for calculating the competency points is:\n",
        "\n",
        "| Points | Description |\n",
        "|--------|-------------|\n",
        "| 0      | No attempt at the competency |\n",
        "| 1      | Attempted competency |\n",
        "| 2      | Successful demonstration of competency |\n",
        "\n",
        "The rubric for the written response is:\n",
        "\n",
        "| Points | Description |\n",
        "|--------|-------------|\n",
        "| 0      | No attempt at question or answer was off-topic or didn't make sense |\n",
        "| 1      | Question was answered, but answer didn't include Kaggle score and relevant observations |\n",
        "| 2      | Question was answered, but answer didn't include Kaggle score or relevant observations |\n",
        "| 3      | Question was answered and included Kaggle score and observations, but conclusion was superficial |\n",
        "| 4      | Answer adequately included Kaggle score and meaningful observations about the model and its performance |\n",
        "\n",
        "\n",
        "#### 3. Improving your model (Exercise 3)\n",
        "\n",
        "This exercise is worth 5 points and it will be graded on your demonstrated ability to manually modify your model to test different thresholds and build a precision vs. recall chart.\n",
        "\n",
        "The rubric for calculating the competency points is:\n",
        "\n",
        "| Points | Description |\n",
        "|--------|-------------|\n",
        "| 0      | No attempt at the competency |\n",
        "| 1      | Attempted competency, but in an incorrect manner |\n",
        "| 2      | Attempted competency correctly, but did not try multiple threshholds and did not show precision/recall changes |\n",
        "| 3      | Attempted competency correctly and tried multiple thresholds, but did not show precision/recall changes |\n",
        "| 4      | Attempted competency correctly, tried multiple thresholds, and showed precision/recall changes, but did not clearly show precision/recall tradeoff |\n",
        "| 5      | Successful demonstration of competency - Different thresholds attempted clearly show precision/recall tradeoff  |\n",
        "\n",
        "#### Project Presentation\n",
        "\n",
        "The project presentation will be graded on participation. All members of a team should actively participate."
      ]
    },
    {
      "cell_type": "markdown",
      "metadata": {
        "colab_type": "text",
        "id": "vaP1zrKmAl2o"
      },
      "source": [
        "## Team\n",
        "\n",
        "Please enter your team members names in the placeholders in this text area:\n",
        "\n",
        "*   *Susan*\n",
        "*   *Wayne*\n",
        "*   *Rosemary*\n"
      ]
    },
    {
      "cell_type": "markdown",
      "metadata": {
        "colab_type": "text",
        "id": "HDzCkRNv8Kmz"
      },
      "source": [
        "## Titanic: Machine Learning from Disaster\n",
        "\n",
        "[Kaggle](https://www.kaggle.com) has a [dataset](https://www.kaggle.com/c/titanic/data) containing the passenger list for the Titanic voyage. The data contains passenger features such as age, gender, and ticket class, as well as whether or not they survived.\n",
        "\n",
        "Your job is to load the data and create a binary classifier using TensorFlow to determine if a passenger survived or not. Then, upload your predictions to Kaggle and submit your accuracy score at the end of this colab, along with a brief conclusion.\n"
      ]
    },
    {
      "cell_type": "markdown",
      "metadata": {
        "colab_type": "text",
        "id": "-U_zk4L_HpWJ"
      },
      "source": [
        "# Exercises"
      ]
    },
    {
      "cell_type": "markdown",
      "metadata": {
        "colab_type": "text",
        "id": "sxmnIepvmdCx"
      },
      "source": [
        "## Exercise 1: Create a Classifier"
      ]
    },
    {
      "cell_type": "markdown",
      "metadata": {
        "colab_type": "text",
        "id": "mntl2Njdme0h"
      },
      "source": [
        "**Graded** demonstrations of competency:\n",
        "\n",
        "1. Download the [dataset](https://www.kaggle.com/c/titanic/data).\n",
        "2. Load the data into this Colab.\n",
        "3. Look at the description of the [dataset](https://www.kaggle.com/c/titanic/data) to understand the columns.\n",
        "4. Explore the dataset. Ask yourself: are there any missing values? Do the data values make sense? Which features seem to be the most important? Are they highly correlated with each other?\n",
        "5. Prep the data (deal with missing values, drop unnecessary columns, transform the data if needed, etc).\n",
        "6. Split the data into testing and training set.\n",
        "7. Create a `tensorflow.estimator.LinearClassifier`.\n",
        "8. Train the classifier using an input function that feeds the classifier training data.\n",
        "9. Make predictions on the test data using your classifier.\n",
        "10. Find the accuracy, precision, and recall of your classifier.\n",
        " "
      ]
    },
    {
      "cell_type": "markdown",
      "metadata": {
        "colab_type": "text",
        "id": "LO8x9d6GHwgQ"
      },
      "source": [
        "### Student Solution"
      ]
    },
    {
      "cell_type": "code",
      "metadata": {
        "colab_type": "code",
        "id": "zKgNoBuEm2h0",
        "colab": {}
      },
      "source": [
        "from google.colab import files\n",
        "\n",
        "uploaded = files.upload()\n",
        "\n",
        "for fn in uploaded.keys():\n",
        "  print('User uploaded file \"{name}\" with length {length} bytes'.format(\n",
        "      name=fn, length=len(uploaded[fn])))"
      ],
      "execution_count": 0,
      "outputs": []
    },
    {
      "cell_type": "code",
      "metadata": {
        "id": "qtPPpH6pY62D",
        "colab_type": "code",
        "colab": {}
      },
      "source": [
        "import pandas as pd\n",
        "import numpy as np\n",
        "import seaborn as sns\n",
        "import matplotlib.pyplot as plt\n",
        "from sklearn import preprocessing\n"
      ],
      "execution_count": 0,
      "outputs": []
    },
    {
      "cell_type": "code",
      "metadata": {
        "id": "RjmJbcpcYu99",
        "colab_type": "code",
        "colab": {}
      },
      "source": [
        "t = pd.read_csv(\"train.csv\")\n",
        "\n",
        "t.head()"
      ],
      "execution_count": 0,
      "outputs": []
    },
    {
      "cell_type": "markdown",
      "metadata": {
        "id": "0a-RabbOjYeW",
        "colab_type": "text"
      },
      "source": [
        ""
      ]
    },
    {
      "cell_type": "markdown",
      "metadata": {
        "id": "94rU0BRcqGUv",
        "colab_type": "text"
      },
      "source": [
        "####Survival : 0= dead 1=lived\n",
        "\n",
        "####pclass: The class of the passangers room, \n",
        "\n",
        "1= first class(brige deck, stelter deck, and promenade deck)\n",
        "\n",
        "2= second class(upper deck, saloon deck, rarely poop deck all located in the back of the boat) \n",
        "\n",
        "3= third class(very back of the boat, very front of the boat, or middle upper deck)\n",
        "\n",
        "\n",
        "####sibsp: The number of siblings or spouses aboard the Titanic\n",
        "\n",
        "you can use it to fill in missing ages ad spouses or sibilings are going to be close in age. If the person has a spouse then you can find them via the ticket number.\n",
        "\n",
        "####parch: The number of parents or children aboard the Titanic\n",
        "\n",
        "####ticket: The Ticket number (lots of values missing)\n",
        "\n",
        "####fare: The amount of money the passanger payed for their ticket\n",
        "\n",
        "####cabin: The Cabin number\n",
        "There is alot of values missing. However you could find out what deck they are on. Then using a map of the ship and there class, you can know how many rooms are still available for other passangers missing of any class.\n",
        "\n",
        "####embarked: Port ofEmbarkation\n",
        "C = Cherbourg,\n",
        "\n",
        "Q = Queenstown, \n",
        "\n",
        "S = Southampton\n",
        "\n",
        "depending on the port they left from impacts the amount their ticket cost.\n",
        "\n",
        "####Sex: gender\n",
        "\n",
        "0= female\n",
        "\n",
        "1= male\n",
        "\n",
        "Women had a greater chance of living as the pritotize women and children for the lifeboats\n",
        "\n",
        "####Age: age of passenger in years\n",
        "\n",
        "If you were under the age of 10 the likey hoods of geting on a life boat was higher.\n",
        "\n",
        "####PassengerID: number assigned to each passenger\n",
        "\n",
        "####Name: name of passenger\n",
        "\n",
        "Can be used when trying to fill in missing cabin and age. As faimlys and cupples are more likely to share a room.\n",
        "\n",
        "\n"
      ]
    },
    {
      "cell_type": "code",
      "metadata": {
        "id": "bLTcn6TQZEqG",
        "colab_type": "code",
        "colab": {}
      },
      "source": [
        "plt.figure(figsize = (10,10))\n",
        "sns.heatmap(t.isnull(), cbar = False)"
      ],
      "execution_count": 0,
      "outputs": []
    },
    {
      "cell_type": "code",
      "metadata": {
        "id": "07eDOl7vZoSI",
        "colab_type": "code",
        "colab": {}
      },
      "source": [
        "#corr = t.corr()\n",
        "\n",
        "#sns.heatmap(corr, annot = True)"
      ],
      "execution_count": 0,
      "outputs": []
    },
    {
      "cell_type": "code",
      "metadata": {
        "id": "TZCbpI8NbH7n",
        "colab_type": "code",
        "colab": {}
      },
      "source": [
        "#Drop NA\n",
        "\n",
        "\n",
        "le = preprocessing.LabelEncoder()\n",
        "le.fit(t.Sex)\n",
        "t.Sex = le.transform(t.Sex)\n",
        "\n"
      ],
      "execution_count": 0,
      "outputs": []
    },
    {
      "cell_type": "code",
      "metadata": {
        "id": "bdOZDz_1gs14",
        "colab_type": "code",
        "colab": {}
      },
      "source": [
        "age_mean = int(t[\"Age\"].mean(skipna=True))\n",
        "t[\"Age\"] = t[\"Age\"].replace(np.NaN, age_mean)\n",
        "\n",
        "t.dropna(inplace = True)"
      ],
      "execution_count": 0,
      "outputs": []
    },
    {
      "cell_type": "code",
      "metadata": {
        "id": "oSHWRetTgVDX",
        "colab_type": "code",
        "colab": {}
      },
      "source": [
        "for column in ['Embarked']:\n",
        "  dummies = pd.get_dummies(t[column])\n",
        "  t[dummies.columns] = dummies\n",
        "\n",
        "t.head()"
      ],
      "execution_count": 0,
      "outputs": []
    },
    {
      "cell_type": "code",
      "metadata": {
        "id": "eOdSm3omljx7",
        "colab_type": "code",
        "colab": {}
      },
      "source": [
        "plt.figure(figsize = (10,10))\n",
        "corr = t.corr()\n",
        "\n",
        "sns.heatmap(corr, annot = True)"
      ],
      "execution_count": 0,
      "outputs": []
    },
    {
      "cell_type": "code",
      "metadata": {
        "id": "jwsfDtSklzsn",
        "colab_type": "code",
        "colab": {}
      },
      "source": [
        "#Use Age, Sex, PClass, maybe SbSp + Parch as features for classification \n",
        "\n",
        "#PClass & Sex #Survived"
      ],
      "execution_count": 0,
      "outputs": []
    },
    {
      "cell_type": "code",
      "metadata": {
        "id": "iCDf-VipS9ai",
        "colab_type": "code",
        "colab": {}
      },
      "source": [
        "pd.to_numeric(t['Fare'])\n",
        "\n",
        "#t.dropna(inplace = True)\n",
        "\n",
        "# print(t[\"Fare\"].min())   #5\n",
        "# print(t[\"Fare\"].mean()) #72\n",
        "# print(t[\"Fare\"].max())  #263\n",
        "\n",
        "bins = [-1, 33, 76, 300, 513]\n",
        "\n",
        "labels = [1, 2, 3, 4]\n",
        "\n",
        "t['Fare_binned'] = pd.cut(t['Fare'], bins, labels = labels)\n"
      ],
      "execution_count": 0,
      "outputs": []
    },
    {
      "cell_type": "code",
      "metadata": {
        "id": "MTq6ABIUgW8P",
        "colab_type": "code",
        "colab": {}
      },
      "source": [
        "#t['Age'].min() = 0.92\n",
        "#t['Age'].mean() = 35\n",
        "#t['Age'].max() = 80\n"
      ],
      "execution_count": 0,
      "outputs": []
    },
    {
      "cell_type": "markdown",
      "metadata": {
        "id": "StLM_u3NmxtO",
        "colab_type": "text"
      },
      "source": [
        "#**Prepping the Model**#"
      ]
    },
    {
      "cell_type": "code",
      "metadata": {
        "id": "zDc7ujo-mwfQ",
        "colab_type": "code",
        "colab": {}
      },
      "source": [
        "survival_outcomes = [0, 1]\n",
        "\n",
        "survival_outcomes_dict = {\"No\": 0, \"Yes\": 1}\n",
        "\n",
        "\n",
        "from sklearn.model_selection import train_test_split\n",
        "\n",
        "train_df, test_df = train_test_split(\n",
        "  t, \n",
        "  test_size = 0.2,\n",
        "  stratify = t['Survived']\n",
        ")\n",
        "\n"
      ],
      "execution_count": 0,
      "outputs": []
    },
    {
      "cell_type": "code",
      "metadata": {
        "id": "IOtK8blJoLHG",
        "colab_type": "code",
        "colab": {}
      },
      "source": [
        "print(train_df.shape)\n",
        "\n",
        "print(test_df.shape)\n",
        "\n",
        "print(train_df.groupby('Pclass')['Survived'].agg('count'))\n",
        "\n",
        "print(test_df.groupby('Pclass')['Survived'].agg('count'))"
      ],
      "execution_count": 0,
      "outputs": []
    },
    {
      "cell_type": "markdown",
      "metadata": {
        "id": "q_r3eg0lixr1",
        "colab_type": "text"
      },
      "source": [
        "#Sex, Pclass"
      ]
    },
    {
      "cell_type": "code",
      "metadata": {
        "id": "WipsL-9rovNe",
        "colab_type": "code",
        "colab": {}
      },
      "source": [
        "#USING TENSORFLOW MODEL\n",
        "\n",
        "df_age_pclass = t[[\"Sex\", \"Pclass\"]] \n",
        "\n",
        "\n",
        "from tensorflow.feature_column import categorical_column_with_identity\n",
        "from tensorflow.feature_column import numeric_column\n",
        "\n",
        "feature_columns = []\n",
        "\n",
        "\n",
        "# for column_name in df_age_pclass.columns[:2]:  #automatically assumes num_buckets inserted below \n",
        "#   feature_columns.append(categorical_column_with_identity(column_name, 2 if column_name == \"Sex\" else 3, default_value = 1))\n",
        "for column_name in df_age_pclass.columns[:]:\n",
        "  feature_columns.append(numeric_column(column_name))\n",
        "  \n",
        "print(feature_columns)"
      ],
      "execution_count": 0,
      "outputs": []
    },
    {
      "cell_type": "code",
      "metadata": {
        "id": "C6NRue-GtIeA",
        "colab_type": "code",
        "colab": {}
      },
      "source": [
        "class_count = 2  #two options 0/1 survival or nah..."
      ],
      "execution_count": 0,
      "outputs": []
    },
    {
      "cell_type": "code",
      "metadata": {
        "id": "69xr1KKctM8B",
        "colab_type": "code",
        "colab": {}
      },
      "source": [
        "from tensorflow.estimator import LinearClassifier\n",
        "#feature_columns is array we appended to above \n",
        "\n",
        "classifier = LinearClassifier(feature_columns=feature_columns, n_classes=class_count)"
      ],
      "execution_count": 0,
      "outputs": []
    },
    {
      "cell_type": "code",
      "metadata": {
        "id": "3-vurPlMtVNC",
        "colab_type": "code",
        "colab": {}
      },
      "source": [
        "#here we return a tensorflow dataset rather than a pd dataframe \n",
        "\n",
        "import tensorflow as tf\n",
        "\n",
        "from tensorflow.data import Dataset\n",
        "\n",
        "#df_age_pclass.head()\n",
        "#print(df_age_pclass.columns)\n",
        "\n",
        "#print(list(df_age_pclass))\n",
        "\n",
        "#print(df_age_pclass)\n",
        "# print(train_df[\"Pclass\"])\n",
        "\n",
        "def training_input():\n",
        "  features_ls = {}\n",
        "  for i in list(df_age_pclass):\n",
        "    features_ls[i] = train_df[i]\n",
        "  labels = train_df['Survived']\n",
        "\n",
        "  training_ds = Dataset.from_tensor_slices((features_ls, labels))\n",
        "  training_ds = training_ds.shuffle(buffer_size=250) #buffer size shuffles data (must be large enough to be uniform)\n",
        "  training_ds = training_ds.batch(30) #computed in batches bc its faster \n",
        "  training_ds = training_ds.repeat(5)\n",
        "\n",
        "  return training_ds\n",
        "\n",
        "classifier.train(training_input) #training the classifier\n",
        " "
      ],
      "execution_count": 0,
      "outputs": []
    },
    {
      "cell_type": "code",
      "metadata": {
        "id": "fx3_QH5qHgpd",
        "colab_type": "code",
        "colab": {}
      },
      "source": [
        "#Making test predictions\n",
        "\n",
        "def testing_input():\n",
        "  features_ls = {}\n",
        "  for i in list(df_age_pclass):\n",
        "    features_ls[i] = test_df[i] \n",
        "  return Dataset.from_tensor_slices((features_ls)).batch(1)\n",
        "\n",
        "predictions_iterator = list(classifier.predict(testing_input))\n",
        "\n",
        "predictions_iterator\n",
        "\n",
        "#each of the predictions returns a probability*"
      ],
      "execution_count": 0,
      "outputs": []
    },
    {
      "cell_type": "code",
      "metadata": {
        "id": "st2vMLQxJTw-",
        "colab_type": "code",
        "colab": {}
      },
      "source": [
        "for p in predictions_iterator:\n",
        "  print(p.keys())\n",
        "  print(p['logits'])\n",
        "  print(p['probabilities'])\n",
        "  print(p['class_ids'])\n",
        "  print(p['classes'])\n",
        "  break"
      ],
      "execution_count": 0,
      "outputs": []
    },
    {
      "cell_type": "code",
      "metadata": {
        "id": "yEQ5I4KgJakj",
        "colab_type": "code",
        "colab": {}
      },
      "source": [
        "predictions_iterator = classifier.predict(testing_input)\n",
        "\n",
        "predictions = [p['class_ids'][0] for p in predictions_iterator]"
      ],
      "execution_count": 0,
      "outputs": []
    },
    {
      "cell_type": "code",
      "metadata": {
        "id": "-wyJGodEJdEI",
        "colab_type": "code",
        "colab": {}
      },
      "source": [
        "from sklearn.metrics import precision_score\n",
        "\n",
        "precision_score = precision_score(test_df['Survived'], predictions)"
      ],
      "execution_count": 0,
      "outputs": []
    },
    {
      "cell_type": "code",
      "metadata": {
        "id": "nyePkKjIJoKG",
        "colab_type": "code",
        "colab": {}
      },
      "source": [
        "from sklearn.metrics import recall_score\n",
        "\n",
        "recall_score = recall_score(test_df['Survived'], predictions)"
      ],
      "execution_count": 0,
      "outputs": []
    },
    {
      "cell_type": "code",
      "metadata": {
        "id": "7zHdLUo7eg3_",
        "colab_type": "code",
        "colab": {}
      },
      "source": [
        "from sklearn.metrics import accuracy_score\n",
        "accuracy_score = accuracy_score(test_df[\"Survived\"], predictions, normalize = True)"
      ],
      "execution_count": 0,
      "outputs": []
    },
    {
      "cell_type": "code",
      "metadata": {
        "id": "hiDnOrFDRm5v",
        "colab_type": "code",
        "colab": {}
      },
      "source": [
        "print(\"Precision_score: {}\".format(precision_score))\n",
        "print(\"Recall_score: {}\".format(recall_score))\n",
        "print(\"Accuracy_score: {}\".format(accuracy_score))"
      ],
      "execution_count": 0,
      "outputs": []
    },
    {
      "cell_type": "code",
      "metadata": {
        "id": "tyBBo7Hj86ev",
        "colab_type": "code",
        "colab": {}
      },
      "source": [
        "#Notes\n",
        "\n",
        "#Increased buffer_size shuffling to 250:\n",
        "#Precision_score: 0.9375\n",
        "# Recall_score: 0.5555555555555556\n",
        "# Accuracy_score: 0.6829268292682927\n",
        "\n",
        "#Increased batch size to 30:   #better balance\n",
        "# Precision_score: 0.8636363636363636\n",
        "# Recall_score: 0.7037037037037037\n",
        "# Accuracy_score: 0.7317073170731707\n",
        "\n"
      ],
      "execution_count": 0,
      "outputs": []
    },
    {
      "cell_type": "markdown",
      "metadata": {
        "id": "k2LRxxtcJ379",
        "colab_type": "text"
      },
      "source": [
        "#Fare (binned), Sex & Pclass"
      ]
    },
    {
      "cell_type": "code",
      "metadata": {
        "id": "lb6FbhkwkbOQ",
        "colab_type": "code",
        "colab": {}
      },
      "source": [
        "# bins2 = [0, 18, 81]\n",
        "\n",
        "# labels2 = [1, 2]\n",
        "\n",
        "# t['Age_binned'] = pd.cut(t['Age'], bins2, labels = labels2)"
      ],
      "execution_count": 0,
      "outputs": []
    },
    {
      "cell_type": "code",
      "metadata": {
        "id": "0I3-zuC5Jude",
        "colab_type": "code",
        "colab": {}
      },
      "source": [
        "df_age_pclass = t[[\"Fare_binned\", \"Sex\", \"Pclass\"]] \n",
        "\n",
        "\n",
        "#from tensorflow.feature_column import categorical_column_with_identity\n",
        "from tensorflow.feature_column import numeric_column\n",
        "\n",
        "feature_columns = []\n",
        "\n",
        "\n",
        "for column_name in df_age_pclass.columns:  #automatically assumes num_buckets inserted below \n",
        "  feature_columns.append(numeric_column(column_name))\n",
        "\n",
        "print(feature_columns)\n",
        "#------------------------------------------------------------------\n",
        "class_count = 2 \n",
        "#------------------------------------------------------------------\n",
        "\n",
        "from tensorflow.estimator import LinearClassifier\n",
        "#feature_columns is array we appended to above \n",
        "\n",
        "classifier = LinearClassifier(feature_columns=feature_columns, n_classes=class_count)"
      ],
      "execution_count": 0,
      "outputs": []
    },
    {
      "cell_type": "code",
      "metadata": {
        "id": "_0jlzSSBKGsP",
        "colab_type": "code",
        "colab": {}
      },
      "source": [
        "\n",
        "import tensorflow as tf\n",
        "\n",
        "from tensorflow.data import Dataset\n",
        "\n",
        "#df_age_pclass.head()\n",
        "#print(df_age_pclass.columns)\n",
        "\n",
        "#print(list(df_age_pclass))\n",
        "\n",
        "#print(df_age_pclass)\n",
        "# print(train_df[\"Pclass\"])\n",
        "\n",
        "def training_input():\n",
        "  features_ls = {}\n",
        "  for i in list(df_age_pclass):\n",
        "    features_ls[i] = train_df[i]\n",
        "  labels = train_df['Survived']\n",
        "\n",
        "  training_ds = Dataset.from_tensor_slices((features_ls, labels))\n",
        "  training_ds = training_ds.shuffle(buffer_size=100)\n",
        "  training_ds = training_ds.batch(10) \n",
        "  training_ds = training_ds.repeat(5)\n",
        "\n",
        "  return training_ds\n",
        "\n",
        "classifier.train(training_input) #training the classifier\n",
        " "
      ],
      "execution_count": 0,
      "outputs": []
    },
    {
      "cell_type": "code",
      "metadata": {
        "id": "JIEcwD5_Kj9p",
        "colab_type": "code",
        "colab": {}
      },
      "source": [
        "#Making test predictions\n",
        "\n",
        "def testing_input():\n",
        "  features_ls = {}\n",
        "  for i in list(df_age_pclass):\n",
        "    features_ls[i] = test_df[i] \n",
        "  return Dataset.from_tensor_slices((features_ls)).batch(1)\n",
        "\n",
        "predictions_iterator = list(classifier.predict(testing_input))\n",
        "\n",
        "predictions_iterator\n",
        "\n",
        "\n",
        "#each of the predictions returns a probability*"
      ],
      "execution_count": 0,
      "outputs": []
    },
    {
      "cell_type": "code",
      "metadata": {
        "id": "5IkPbHVQKlwW",
        "colab_type": "code",
        "colab": {}
      },
      "source": [
        "for p in predictions_iterator:\n",
        "  print(p.keys())\n",
        "  print(p['logits'])\n",
        "  print(p['probabilities'])\n",
        "  print(p['class_ids'])\n",
        "  print(p['classes'])\n",
        "  break\n",
        "  \n",
        "\n"
      ],
      "execution_count": 0,
      "outputs": []
    },
    {
      "cell_type": "code",
      "metadata": {
        "id": "8HEiM6jmKwAy",
        "colab_type": "code",
        "colab": {}
      },
      "source": [
        "predictions_iterator = classifier.predict(testing_input)\n",
        "\n",
        "predictions = [p['class_ids'][0] for p in predictions_iterator]"
      ],
      "execution_count": 0,
      "outputs": []
    },
    {
      "cell_type": "code",
      "metadata": {
        "id": "vfop_LLWKuGw",
        "colab_type": "code",
        "colab": {}
      },
      "source": [
        "from sklearn.metrics import precision_score\n",
        "\n",
        "precision_score = precision_score(test_df['Survived'], predictions)"
      ],
      "execution_count": 0,
      "outputs": []
    },
    {
      "cell_type": "code",
      "metadata": {
        "id": "1UPrviRRP9EO",
        "colab_type": "code",
        "colab": {}
      },
      "source": [
        "from sklearn.metrics import recall_score\n",
        "\n",
        "recall_score = recall_score(test_df['Survived'], predictions)"
      ],
      "execution_count": 0,
      "outputs": []
    },
    {
      "cell_type": "code",
      "metadata": {
        "id": "20QY00NTQdBG",
        "colab_type": "code",
        "colab": {}
      },
      "source": [
        "from sklearn.metrics import accuracy_score\n",
        "accuracy_score = accuracy_score(test_df[\"Survived\"], predictions, normalize = True)"
      ],
      "execution_count": 0,
      "outputs": []
    },
    {
      "cell_type": "code",
      "metadata": {
        "id": "zEO6SsdoLLw-",
        "colab_type": "code",
        "colab": {}
      },
      "source": [
        "print(\"Precision_score: {}\".format(precision_score))\n",
        "print(\"Recall_score: {}\".format(recall_score))\n",
        "print(\"Accuracy_score: {}\".format(accuracy_score))\n"
      ],
      "execution_count": 0,
      "outputs": []
    },
    {
      "cell_type": "markdown",
      "metadata": {
        "id": "eXIHfX1gnUN2",
        "colab_type": "text"
      },
      "source": [
        ""
      ]
    },
    {
      "cell_type": "markdown",
      "metadata": {
        "colab_type": "text",
        "id": "yXJCSsAdz-f0"
      },
      "source": [
        "## Exercise 2: Upload your predictions to Kaggle"
      ]
    },
    {
      "cell_type": "markdown",
      "metadata": {
        "colab_type": "text",
        "id": "4ONevNjq2UXu"
      },
      "source": [
        "**Graded** demonstrations of competency:\n",
        "1. Download the test.csv file from Kaggle and re-run your model using all of the training data.\n",
        "2. Use this new test data to generate predictions using your model.\n",
        "3. Follow the instructions in the [evaluation section](https://www.kaggle.com/c/titanic/overview/evaluation) to output the preditions in the format of the gender_submission.csv file. Download the predictions file from your Colab and upload it to Kaggle.\n",
        "\n",
        "\n",
        "**Written Response**\n",
        "\n",
        "Write down your conclusion along with the score that you got from Kaggle.\n"
      ]
    },
    {
      "cell_type": "markdown",
      "metadata": {
        "colab_type": "text",
        "id": "fijeUn4tIFCo"
      },
      "source": [
        "### Student Solution"
      ]
    },
    {
      "cell_type": "code",
      "metadata": {
        "colab_type": "code",
        "id": "dEWZUCnT9UkK",
        "colab": {}
      },
      "source": [
        "# Your code goes here\n"
      ],
      "execution_count": 0,
      "outputs": []
    },
    {
      "cell_type": "markdown",
      "metadata": {
        "colab_type": "text",
        "id": "fRZni-CBVjFV"
      },
      "source": [
        "{### Your written response goes here. Make sure to include your Kaggle score. ###}\n",
        "\n"
      ]
    },
    {
      "cell_type": "markdown",
      "metadata": {
        "colab_type": "text",
        "id": "9KdtnUJP2Uen"
      },
      "source": [
        "## Exercise 3: Improve your model"
      ]
    },
    {
      "cell_type": "markdown",
      "metadata": {
        "colab_type": "text",
        "id": "C781-AwN4q9Z"
      },
      "source": [
        "The predictions returned by the LinearClassifer contain scoring and/or confidence information about why the decision was made to classify a passenger as a survivor or not. Find the number used to make the decision and manually play around with different thresholds to build a precision vs. recall chart."
      ]
    },
    {
      "cell_type": "markdown",
      "metadata": {
        "colab_type": "text",
        "id": "w5rYKVkgT8NL"
      },
      "source": [
        "### Student Solution"
      ]
    },
    {
      "cell_type": "code",
      "metadata": {
        "colab_type": "code",
        "id": "MDEErS0f8oi7",
        "colab": {}
      },
      "source": [
        "# Your code goes here\n",
        "\n",
        "from sklearn.metrics import precision_recall_curve\n",
        "import matplotlib.pyplot as plt\n",
        "from inspect import signature\n",
        "\n",
        "from sklearn.metrics import average_precision_score\n",
        "\n",
        "#These two lines already exist so we could replace them\n",
        "average_precision = average_precision_score(test_df['Survived'], predictions)\n",
        "precision_s, recall_s, _ = precision_recall_curve(test_df['Survived'], predictions)\n",
        "\n",
        "\n",
        "# In matplotlib < 1.5, plt.fill_between does not have a 'step' argument\n",
        "step_kwargs = ({'step': 'post'}\n",
        "               if 'step' in signature(plt.fill_between).parameters\n",
        "               else {})\n",
        "plt.step(recall_s, precision_s, color='b', alpha=0.2,\n",
        "         where='post')\n",
        "plt.fill_between(recall_s, precision_s, alpha=0.2, color='c', **step_kwargs)\n",
        "\n",
        "plt.xlabel('Recall')\n",
        "plt.ylabel('Precision')\n",
        "plt.ylim([0.0, 1.05])\n",
        "plt.xlim([0.0, 1.0])\n",
        "plt.title('2-class Precision-Recall curve: AP={0:0.2f}'.format(\n",
        "         average_precision))"
      ],
      "execution_count": 0,
      "outputs": []
    },
    {
      "cell_type": "markdown",
      "metadata": {
        "colab_type": "text",
        "id": "QFFInD4j-VMc"
      },
      "source": [
        "## Exercise 4: Dig deeper (optional and ungraded)"
      ]
    },
    {
      "cell_type": "markdown",
      "metadata": {
        "colab_type": "text",
        "id": "93t_PYx6-W_N"
      },
      "source": [
        "Check out the different approaches in [this kernel](https://www.kaggle.com/startupsci/titanic-data-science-solutions) (kernels are solutions or data exploration notebooks shared by other users).\n",
        "Try using a different approach and see if you can improve your results.\n",
        "\n",
        "Alternatively, you can try implementing a simple decision tree by hand, as in this [Udacity Project](https://github.com/juemura/machine-learning/blob/master/projects/titanic_survival_exploration/titanic_survival_exploration.ipynb). "
      ]
    },
    {
      "cell_type": "markdown",
      "metadata": {
        "colab_type": "text",
        "id": "3_tj2sXDIk7N"
      },
      "source": [
        "### Student Solution"
      ]
    },
    {
      "cell_type": "code",
      "metadata": {
        "colab_type": "code",
        "id": "BhbZHXy-ImSj",
        "colab": {}
      },
      "source": [
        "# Your code goes here"
      ],
      "execution_count": 0,
      "outputs": []
    }
  ]
}